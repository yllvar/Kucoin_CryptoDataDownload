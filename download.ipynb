{
 "cells": [
  {
   "cell_type": "code",
   "execution_count": 1,
   "id": "a8c07a49",
   "metadata": {},
   "outputs": [
    {
     "name": "stdout",
     "output_type": "stream",
     "text": [
      "Data downloaded successfully and saved as Kucoin_BTCUSDT_minute.csv in the project directory.\n"
     ]
    }
   ],
   "source": [
    "import requests\n",
    "import os\n",
    "\n",
    "def download_kucoin_data(symbol='BTC/USDT'):\n",
    "    # Define the URL to download the data\n",
    "    url = f'https://www.cryptodatadownload.com/cdd/Kucoin_{symbol.replace(\"/\", \"\")}_minute.csv'\n",
    "\n",
    "    # Send a GET request to the URL\n",
    "    response = requests.get(url)\n",
    "    \n",
    "    # Check if the request was successful (status code 200)\n",
    "    if response.status_code == 200:\n",
    "        # Get the file name from the URL\n",
    "        filename = os.path.basename(url)\n",
    "        \n",
    "        # Save the content of the response to a file\n",
    "        with open(filename, 'wb') as f:\n",
    "            f.write(response.content)\n",
    "        \n",
    "        print(f'Data downloaded successfully and saved as {filename} in the project directory.')\n",
    "    else:\n",
    "        print('Failed to download data. Check the symbol or try again later.')\n",
    "\n",
    "# Test the function\n",
    "download_kucoin_data()\n"
   ]
  },
  {
   "cell_type": "code",
   "execution_count": null,
   "id": "6103c93a",
   "metadata": {},
   "outputs": [],
   "source": []
  }
 ],
 "metadata": {
  "kernelspec": {
   "display_name": "Python 3 (ipykernel)",
   "language": "python",
   "name": "python3"
  },
  "language_info": {
   "codemirror_mode": {
    "name": "ipython",
    "version": 3
   },
   "file_extension": ".py",
   "mimetype": "text/x-python",
   "name": "python",
   "nbconvert_exporter": "python",
   "pygments_lexer": "ipython3",
   "version": "3.11.5"
  }
 },
 "nbformat": 4,
 "nbformat_minor": 5
}
